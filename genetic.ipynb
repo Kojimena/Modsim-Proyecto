{
 "cells": [
  {
   "cell_type": "code",
<<<<<<< Updated upstream
   "execution_count": 534,
=======
   "execution_count": 1501,
>>>>>>> Stashed changes
   "metadata": {},
   "outputs": [],
   "source": [
    "import pandas as pd\n",
    "import numpy as np \n",
    "from sklearn.model_selection import train_test_split\n",
    "from sklearn.ensemble import RandomForestClassifier\n",
    "from sklearn.metrics import precision_score\n",
    "import matplotlib.pyplot as plt \n",
    "#decision tree\n",
    "from sklearn.tree import DecisionTreeClassifier\n",
    "#svm\n",
    "from sklearn.svm import SVC\n",
    "#knn\n",
    "from sklearn.neighbors import KNeighborsClassifier"
   ]
  },
  {
   "cell_type": "code",
   "execution_count": null,
   "metadata": {},
   "outputs": [],
   "source": [
<<<<<<< Updated upstream
    "DATASET = \"./datasets/breast_cancer.csv\"\n",
    "MODEL = KNeighborsClassifier(n_neighbors=3)\n",
    "np.random.seed(10564695)\n",
    "TARGET = \"diagnosis\" "
=======
    "DATASET = \"./datasets/gender.csv\"\n",
    "MODEL = KNeighborsClassifier( n_neighbors=3)\n",
    "np.random.seed(100)\n",
    "TARGET = \"gender\" "
>>>>>>> Stashed changes
   ]
  },
  {
   "cell_type": "code",
<<<<<<< Updated upstream
   "execution_count": 536,
=======
   "execution_count": 1503,
>>>>>>> Stashed changes
   "metadata": {},
   "outputs": [],
   "source": [
    "# Import data\n",
    "data = pd.read_csv(DATASET)"
   ]
  },
  {
   "cell_type": "code",
<<<<<<< Updated upstream
   "execution_count": 537,
=======
   "execution_count": 1504,
>>>>>>> Stashed changes
   "metadata": {},
   "outputs": [
    {
     "name": "stdout",
     "output_type": "stream",
     "text": [
<<<<<<< Updated upstream
      "         id diagnosis  radius_mean  texture_mean  perimeter_mean  area_mean  \\\n",
      "0    842302         M        17.99         10.38          122.80     1001.0   \n",
      "1    842517         M        20.57         17.77          132.90     1326.0   \n",
      "2  84300903         M        19.69         21.25          130.00     1203.0   \n",
      "3  84348301         M        11.42         20.38           77.58      386.1   \n",
      "4  84358402         M        20.29         14.34          135.10     1297.0   \n",
      "\n",
      "   smoothness_mean  compactness_mean  concavity_mean  concave points_mean  \\\n",
      "0          0.11840           0.27760          0.3001              0.14710   \n",
      "1          0.08474           0.07864          0.0869              0.07017   \n",
      "2          0.10960           0.15990          0.1974              0.12790   \n",
      "3          0.14250           0.28390          0.2414              0.10520   \n",
      "4          0.10030           0.13280          0.1980              0.10430   \n",
      "\n",
      "   ...  radius_worst  texture_worst  perimeter_worst  area_worst  \\\n",
      "0  ...         25.38          17.33           184.60      2019.0   \n",
      "1  ...         24.99          23.41           158.80      1956.0   \n",
      "2  ...         23.57          25.53           152.50      1709.0   \n",
      "3  ...         14.91          26.50            98.87       567.7   \n",
      "4  ...         22.54          16.67           152.20      1575.0   \n",
      "\n",
      "   smoothness_worst  compactness_worst  concavity_worst  concave points_worst  \\\n",
      "0            0.1622             0.6656           0.7119                0.2654   \n",
      "1            0.1238             0.1866           0.2416                0.1860   \n",
      "2            0.1444             0.4245           0.4504                0.2430   \n",
      "3            0.2098             0.8663           0.6869                0.2575   \n",
      "4            0.1374             0.2050           0.4000                0.1625   \n",
      "\n",
      "   symmetry_worst  fractal_dimension_worst  \n",
      "0          0.4601                  0.11890  \n",
      "1          0.2750                  0.08902  \n",
      "2          0.3613                  0.08758  \n",
      "3          0.6638                  0.17300  \n",
      "4          0.2364                  0.07678  \n",
      "\n",
      "[5 rows x 32 columns]\n"
=======
      "   long_hair  forehead_width_cm  forehead_height_cm  nose_wide  nose_long  \\\n",
      "0          1               11.8                 6.1          1          0   \n",
      "1          0               14.0                 5.4          0          0   \n",
      "2          0               11.8                 6.3          1          1   \n",
      "3          0               14.4                 6.1          0          1   \n",
      "4          1               13.5                 5.9          0          0   \n",
      "\n",
      "   lips_thin  distance_nose_to_lip_long  gender  \n",
      "0          1                          1       1  \n",
      "1          1                          0       0  \n",
      "2          1                          1       1  \n",
      "3          1                          1       1  \n",
      "4          0                          0       0  \n"
>>>>>>> Stashed changes
     ]
    }
   ],
   "source": [
    "from sklearn.preprocessing import LabelEncoder\n",
    "\n",
    "def preprocess(data):\n",
    "    for column in data.columns:\n",
    "        if data[column].dtype == 'object':\n",
    "            if len(data[column].unique()) == 2:\n",
    "                data[column] = pd.Categorical(data[column]).codes\n",
    "            else:\n",
    "                le = LabelEncoder()\n",
    "                data[column] = le.fit_transform(data[column])\n",
    "\n",
    "    return data\n",
    "print(data.head())\n",
    "data = preprocess(data)\n",
    "data_predictors = data.loc[:, data.columns != TARGET]\n",
    "target = data[TARGET]\n",
    "predictor_names = data_predictors.columns\n"
   ]
  },
  {
   "cell_type": "code",
<<<<<<< Updated upstream
   "execution_count": 538,
=======
   "execution_count": 1505,
>>>>>>> Stashed changes
   "metadata": {},
   "outputs": [],
   "source": [
    "# Split data\n",
    "x_train, x_test, y_train, y_test = train_test_split(data_predictors, target, test_size=0.3,random_state=0)"
   ]
  },
  {
   "cell_type": "code",
<<<<<<< Updated upstream
   "execution_count": 539,
=======
   "execution_count": 1506,
>>>>>>> Stashed changes
   "metadata": {},
   "outputs": [],
   "source": [
    "def generate_random_individuals(population_size, num_features, min_features, max_features):\n",
    "    individuals = np.zeros((population_size, num_features))\n",
    "    for i in range(population_size):\n",
    "        num_ones = np.random.randint(min_features, max_features+1)\n",
    "        ones_indices = np.random.choice(num_features, num_ones, replace=False)\n",
    "        individuals[i, ones_indices] = 1\n",
    "    return individuals\n",
    "\n",
    "multiclass = True if len(data[TARGET].unique()) > 2 else False\n"
   ]
  },
  {
   "cell_type": "code",
<<<<<<< Updated upstream
   "execution_count": 540,
=======
   "execution_count": 1507,
>>>>>>> Stashed changes
   "metadata": {},
   "outputs": [],
   "source": [
    "# 2.& 3.: Train model and get precision\n",
    "def train_model(x_train, x_test, y_train, y_test, predictor_names):\n",
    "    x_train = x_train.loc[:, predictor_names]\n",
    "    x_test = x_test.loc[:, predictor_names]\n",
    "    \n",
    "    #Building the random forest model \n",
    "    mdl = MODEL\n",
    "    mdl.fit(x_train, y_train)                    #Training the Model with x_train & y_train\n",
    "    y_hat = mdl.predict(x_test)                  #Predicting the x_test \n",
    "    # prec = precision_score(y_test, y_hat)        #Precision: The best value is 1 and the worst value is 0.\n",
    "    if multiclass:\n",
    "        prec = precision_score(y_test, y_hat, average='weighted')\n",
    "    else:\n",
    "        prec = precision_score(y_test, y_hat)\n",
    "\n",
    "    return prec"
   ]
  },
  {
   "cell_type": "code",
<<<<<<< Updated upstream
   "execution_count": 541,
=======
   "execution_count": 1508,
>>>>>>> Stashed changes
   "metadata": {},
   "outputs": [],
   "source": [
    "def choose_parents(population,accuracy,elite_percent):\n",
    "    # Get elite of top 2 which doesn't mutate\n",
    "    elite_num = int(round(((elite_percent*population.shape[0]) // 2) * 2))\n",
    "    ind_ac = np.argsort(-accuracy)\n",
    "    top_perc = ind_ac[:elite_num]\n",
    "    elite_population = population[top_perc,:]   # We should keep this elite\n",
    "    \n",
    "    # Normalize accuracy to obtain weights for roulette wheel selection\n",
    "    weight_norm = accuracy / accuracy.sum()     # calculate normalised weight from accuracy\n",
    "    weight_comu = weight_norm.cumsum()          # calc cumulative weight from accuracy\n",
    "   \n",
    "    # Roulette wheel selection   \n",
    "    num_parents_wo_elite = population.shape[0] - elite_num\n",
    "    parents_wo_elite = np.empty([num_parents_wo_elite,population.shape[1]])\n",
    "    for count in range(num_parents_wo_elite):\n",
    "        b = weight_comu[-1]                         # current last element of weight_comu \n",
    "        rand_num = np.random.uniform(0,b)         # random foating-point number btw 0 and current max weight_comu\n",
    "        \n",
    "        indices = np.searchsorted(weight_comu,rand_num) # get indices of the number in weight_comu greater than rand_num\n",
    "        parents_wo_elite[count,:] = population[indices, :]\n",
    "        \n",
    "    parents = np.concatenate((elite_population, parents_wo_elite), axis=0)  # Concatenate elite and parents_wo_elite to get all parents\n",
    "    return parents"
   ]
  },
  {
   "cell_type": "code",
<<<<<<< Updated upstream
   "execution_count": 542,
=======
   "execution_count": 1509,
>>>>>>> Stashed changes
   "metadata": {},
   "outputs": [],
   "source": [
    "def one_point_crossover(parents,elite_percent,mutation_probability,min_features, max_features):\n",
    "    elite_num = int(round(((elite_percent*population.shape[0]) // 2) * 2))\n",
    "    crossover_population = np.zeros((parents.shape[0],parents.shape[1]))         # first two are elite\n",
    "    crossover_population[0:elite_num,:] = parents[0:elite_num,:]\n",
    "    \n",
    "    for ii in range(int((parents.shape[0]-elite_num)/2)):\n",
    "        n = 2*ii+elite_num                    # gives even number\n",
    "        parents_couple = parents[n:n+2, :]    # comb of parents\n",
    "        b2 = parents.shape[1]                 # num of features\n",
    "        rand_n = np.random.randint(1, b2-1)   # generate rand number from 1 to num_of_features-1\n",
    "        crossover_population[n,:] = np.concatenate([parents_couple[0, :rand_n], parents_couple[1, rand_n:]])\n",
    "        crossover_population[n+1,:] = np.concatenate([parents_couple[1, :rand_n], parents_couple[0, rand_n:]])\n",
    "        \n",
    "    #check if every child has minimum number of features or all true values\n",
    "    for kk in range(crossover_population.shape[0]):\n",
    "        Sum = np.sum(crossover_population[kk,:])\n",
    "        if Sum > max_features:\n",
    "            # if the number of 1s is bigger than max number of features\n",
    "            excess = int(Sum - max_features)\n",
    "            indices = np.where(crossover_population[kk,:] == 1)[0]\n",
    "            position1 = np.random.choice(indices, size=excess, replace=False)       \n",
    "            crossover_population[kk, position1] = 0 # put 0s in random positions\n",
    "        elif Sum < min_features:\n",
    "            # if the number of 1s is smaller than min number of features\n",
    "            missing = int(min_features - Sum)\n",
    "            indices = np.where(crossover_population[kk,:] == 0)[0]\n",
    "            position2 = np.random.choice(indices, size=missing, replace=False) \n",
    "            crossover_population[kk, position2] = 1 # put 1s in random positions\n",
    "\n",
    "    # mutation\n",
    "    child_row = crossover_population.shape[0]\n",
    "    child_col = crossover_population.shape[1]\n",
    "    num_mutations = round(child_row*child_col*mutation_probability)     \n",
    "    for jj in range(num_mutations):\n",
    "        ind_row = np.random.randint(0,child_row) # random number btw 0 and num of rows\n",
    "        ind_col = np.random.randint(0,child_col) # random number btw 0 and num of colmns\n",
    "        if (crossover_population[ind_row,ind_col] == 0 and \n",
    "            np.sum(crossover_population[ind_row,:]) < max_features):\n",
    "            crossover_population[ind_row,ind_col] = 1\n",
    "        elif (crossover_population[ind_row,ind_col] == 1 and \n",
    "              np.sum(crossover_population[ind_row,:]) >= min_features+1):\n",
    "            crossover_population[ind_row,ind_col] = 0 \n",
    "    \n",
    "    return crossover_population "
   ]
  },
  {
   "cell_type": "code",
<<<<<<< Updated upstream
   "execution_count": 543,
=======
   "execution_count": 1510,
>>>>>>> Stashed changes
   "metadata": {},
   "outputs": [],
   "source": [
    "# Hyperparameters\n",
    "num_features = data_predictors.shape[1]\n",
    "min_features = 2            # minimal number of features in a subset of features\n",
    "population_size = 8         # size of population (number of instances)\n",
    "max_iterations = 10          # maximum number of iterations\n",
    "elite_percent = 0.4         # percentage of elite population which doesn't mutate\n",
    "mutation_probability = 0.2  # percentage of total genes that mutate\n",
    "max_features = 2            # maximum number of features in a subset of features"
   ]
  },
  {
   "cell_type": "code",
<<<<<<< Updated upstream
   "execution_count": 544,
=======
   "execution_count": 1511,
>>>>>>> Stashed changes
   "metadata": {},
   "outputs": [],
   "source": [
    "# Main loop - gen 0\n",
    "#1&2 generate population\n",
    "population = generate_random_individuals(population_size, num_features, min_features, max_features)   \n",
    "#3&4 train model\n",
    "accuracy = np.zeros(population_size);   \n",
    "predictor_names = data_predictors.columns\n",
    "response_name = target.name                                                 \n",
    "for i in range(population_size):\n",
    "    predictor_names_i = predictor_names[population[i,:]==1]\n",
    "    accuracy_i = train_model(x_train,x_test,y_train,y_test,predictor_names_i)\n",
    "    accuracy[i] = accuracy_i\n",
    "gen = 0\n",
    "best_acc_i = np.zeros(max_iterations)    \n",
    "best_acc_i[gen] = max(accuracy)     # keep best accuracy from 1st gen"
   ]
  },
  {
   "cell_type": "code",
<<<<<<< Updated upstream
   "execution_count": 545,
=======
   "execution_count": 1512,
>>>>>>> Stashed changes
   "metadata": {},
   "outputs": [
    {
     "name": "stdout",
     "output_type": "stream",
     "text": [
      "Begin iteration num 2/10\n",
      "Begin iteration num 3/10\n",
      "Begin iteration num 4/10\n",
      "Begin iteration num 5/10\n",
      "Begin iteration num 6/10\n",
      "Begin iteration num 7/10\n",
      "Begin iteration num 8/10\n",
      "Begin iteration num 9/10\n",
      "Begin iteration num 10/10\n"
     ]
    }
   ],
   "source": [
    "# Main loop - gen > 0\n",
    "while gen < max_iterations-1:\n",
    "    print('Begin iteration num {}/{}'.format(gen+2,max_iterations))\n",
    "    gen += 1\n",
    "    parents = choose_parents(population, accuracy, elite_percent)\n",
    "    children = one_point_crossover(parents,elite_percent,mutation_probability,min_features,max_features)\n",
    "    population = children\n",
    "    for ind in range(population_size):\n",
    "        predictor_names_ind = predictor_names[population[ind,:]==1]\n",
    "        accuracy_ind = train_model(x_train,x_test,y_train,y_test,predictor_names_ind)\n",
    "        accuracy[ind] = accuracy_ind\n",
    "    best_acc_i[gen] = max(accuracy)\n",
    "    \n",
    "ind_max_acc = np.argmax(accuracy)\n",
    "best_features = population[ind_max_acc,:]"
   ]
  },
  {
   "cell_type": "code",
<<<<<<< Updated upstream
   "execution_count": 546,
=======
   "execution_count": 1513,
>>>>>>> Stashed changes
   "metadata": {},
   "outputs": [
    {
     "name": "stdout",
     "output_type": "stream",
     "text": [
<<<<<<< Updated upstream
      "Best combination of features:  Index(['radius_mean', 'radius_worst'], dtype='object')\n"
=======
      "Best combination of features:  Index(['long_hair', 'nose_wide', 'nose_long', 'lips_thin'], dtype='object')\n"
>>>>>>> Stashed changes
     ]
    }
   ],
   "source": [
    "print(\"Best combination of features: \", predictor_names[best_features==1])"
   ]
  },
  {
   "cell_type": "code",
<<<<<<< Updated upstream
   "execution_count": 547,
=======
   "execution_count": 1514,
>>>>>>> Stashed changes
   "metadata": {},
   "outputs": [
    {
     "data": {
<<<<<<< Updated upstream
      "image/png": "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",
=======
      "image/png": "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",
>>>>>>> Stashed changes
      "text/plain": [
       "<Figure size 640x480 with 1 Axes>"
      ]
     },
     "metadata": {},
     "output_type": "display_data"
    }
   ],
   "source": [
    "# Plots - Post-processing\n",
    "best_features_names = predictor_names[best_features==1]\n",
    "plt.plot(range(1, max_iterations + 1), best_acc_i)\n",
    "plt.xlabel('Number of generations')\n",
    "plt.ylabel('Best accuracy')\n",
    "plt.title('Genetic algorithm')\n",
    "plt.show()"
   ]
  }
 ],
 "metadata": {
  "kernelspec": {
   "display_name": "Python 3",
   "language": "python",
   "name": "python3"
  },
  "language_info": {
   "codemirror_mode": {
    "name": "ipython",
    "version": 3
   },
   "file_extension": ".py",
   "mimetype": "text/x-python",
   "name": "python",
   "nbconvert_exporter": "python",
   "pygments_lexer": "ipython3",
   "version": "3.11.4"
  }
 },
 "nbformat": 4,
 "nbformat_minor": 2
}
