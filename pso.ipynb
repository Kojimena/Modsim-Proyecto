{
 "cells": [
  {
   "cell_type": "code",
   "execution_count": 1,
   "metadata": {},
   "outputs": [],
   "source": [
    "from sklearn.linear_model import LogisticRegression\n",
    "from sklearn.model_selection import train_test_split\n",
    "from sklearn import preprocessing\n",
    "preprocessing.LabelEncoder()\n",
    "import random\n",
    "import numpy as np\n",
    "import warnings\n",
    "warnings.filterwarnings(\"ignore\")"
   ]
  },
  {
   "cell_type": "code",
   "execution_count": 2,
   "metadata": {},
   "outputs": [],
   "source": [
    "import pandas as pd\n",
    "pd.set_option(\"display.max_columns\", None)"
   ]
  },
  {
   "cell_type": "code",
   "execution_count": 3,
   "metadata": {},
   "outputs": [
    {
     "name": "stdout",
     "output_type": "stream",
     "text": [
      "         id diagnosis  radius_mean  texture_mean  perimeter_mean  area_mean  \\\n",
      "0    842302         M        17.99         10.38          122.80     1001.0   \n",
      "1    842517         M        20.57         17.77          132.90     1326.0   \n",
      "2  84300903         M        19.69         21.25          130.00     1203.0   \n",
      "3  84348301         M        11.42         20.38           77.58      386.1   \n",
      "4  84358402         M        20.29         14.34          135.10     1297.0   \n",
      "\n",
      "   smoothness_mean  compactness_mean  concavity_mean  concave points_mean  \\\n",
      "0          0.11840           0.27760          0.3001              0.14710   \n",
      "1          0.08474           0.07864          0.0869              0.07017   \n",
      "2          0.10960           0.15990          0.1974              0.12790   \n",
      "3          0.14250           0.28390          0.2414              0.10520   \n",
      "4          0.10030           0.13280          0.1980              0.10430   \n",
      "\n",
      "   symmetry_mean  fractal_dimension_mean  radius_se  texture_se  perimeter_se  \\\n",
      "0         0.2419                 0.07871     1.0950      0.9053         8.589   \n",
      "1         0.1812                 0.05667     0.5435      0.7339         3.398   \n",
      "2         0.2069                 0.05999     0.7456      0.7869         4.585   \n",
      "3         0.2597                 0.09744     0.4956      1.1560         3.445   \n",
      "4         0.1809                 0.05883     0.7572      0.7813         5.438   \n",
      "\n",
      "   area_se  smoothness_se  compactness_se  concavity_se  concave points_se  \\\n",
      "0   153.40       0.006399         0.04904       0.05373            0.01587   \n",
      "1    74.08       0.005225         0.01308       0.01860            0.01340   \n",
      "2    94.03       0.006150         0.04006       0.03832            0.02058   \n",
      "3    27.23       0.009110         0.07458       0.05661            0.01867   \n",
      "4    94.44       0.011490         0.02461       0.05688            0.01885   \n",
      "\n",
      "   symmetry_se  fractal_dimension_se  radius_worst  texture_worst  \\\n",
      "0      0.03003              0.006193         25.38          17.33   \n",
      "1      0.01389              0.003532         24.99          23.41   \n",
      "2      0.02250              0.004571         23.57          25.53   \n",
      "3      0.05963              0.009208         14.91          26.50   \n",
      "4      0.01756              0.005115         22.54          16.67   \n",
      "\n",
      "   perimeter_worst  area_worst  smoothness_worst  compactness_worst  \\\n",
      "0           184.60      2019.0            0.1622             0.6656   \n",
      "1           158.80      1956.0            0.1238             0.1866   \n",
      "2           152.50      1709.0            0.1444             0.4245   \n",
      "3            98.87       567.7            0.2098             0.8663   \n",
      "4           152.20      1575.0            0.1374             0.2050   \n",
      "\n",
      "   concavity_worst  concave points_worst  symmetry_worst  \\\n",
      "0           0.7119                0.2654          0.4601   \n",
      "1           0.2416                0.1860          0.2750   \n",
      "2           0.4504                0.2430          0.3613   \n",
      "3           0.6869                0.2575          0.6638   \n",
      "4           0.4000                0.1625          0.2364   \n",
      "\n",
      "   fractal_dimension_worst  \n",
      "0                  0.11890  \n",
      "1                  0.08902  \n",
      "2                  0.08758  \n",
      "3                  0.17300  \n",
      "4                  0.07678  \n",
      "<class 'pandas.core.frame.DataFrame'>\n",
      "RangeIndex: 569 entries, 0 to 568\n",
      "Data columns (total 32 columns):\n",
      " #   Column                   Non-Null Count  Dtype  \n",
      "---  ------                   --------------  -----  \n",
      " 0   id                       569 non-null    int64  \n",
      " 1   diagnosis                569 non-null    object \n",
      " 2   radius_mean              569 non-null    float64\n",
      " 3   texture_mean             569 non-null    float64\n",
      " 4   perimeter_mean           569 non-null    float64\n",
      " 5   area_mean                569 non-null    float64\n",
      " 6   smoothness_mean          569 non-null    float64\n",
      " 7   compactness_mean         569 non-null    float64\n",
      " 8   concavity_mean           569 non-null    float64\n",
      " 9   concave points_mean      569 non-null    float64\n",
      " 10  symmetry_mean            569 non-null    float64\n",
      " 11  fractal_dimension_mean   569 non-null    float64\n",
      " 12  radius_se                569 non-null    float64\n",
      " 13  texture_se               569 non-null    float64\n",
      " 14  perimeter_se             569 non-null    float64\n",
      " 15  area_se                  569 non-null    float64\n",
      " 16  smoothness_se            569 non-null    float64\n",
      " 17  compactness_se           569 non-null    float64\n",
      " 18  concavity_se             569 non-null    float64\n",
      " 19  concave points_se        569 non-null    float64\n",
      " 20  symmetry_se              569 non-null    float64\n",
      " 21  fractal_dimension_se     569 non-null    float64\n",
      " 22  radius_worst             569 non-null    float64\n",
      " 23  texture_worst            569 non-null    float64\n",
      " 24  perimeter_worst          569 non-null    float64\n",
      " 25  area_worst               569 non-null    float64\n",
      " 26  smoothness_worst         569 non-null    float64\n",
      " 27  compactness_worst        569 non-null    float64\n",
      " 28  concavity_worst          569 non-null    float64\n",
      " 29  concave points_worst     569 non-null    float64\n",
      " 30  symmetry_worst           569 non-null    float64\n",
      " 31  fractal_dimension_worst  569 non-null    float64\n",
      "dtypes: float64(30), int64(1), object(1)\n",
      "memory usage: 142.4+ KB\n",
      "None\n",
      "['M' 'B']\n"
     ]
    }
   ],
   "source": [
    "data = pd.read_csv(\"./data/breast_cancer.csv\")\n",
    "print(data.head())\n",
    "print(data.info())\n",
    "print(data[\"diagnosis\"].unique())"
   ]
  },
  {
   "cell_type": "code",
   "execution_count": 4,
   "metadata": {},
   "outputs": [],
   "source": [
    "# Extract calssification target\n",
    "target = data.loc[:, \"diagnosis\"]\n",
    "# Convert the target variable to a binary representation (0 or 1)\n",
    "target = (target == \"M\").astype(int)\n",
    "# Extract all other columns except 'diagnosis' as predictors\n",
    "data_predictors = data.loc[:, data.columns != 'diagnosis']\n",
    "# Create a list of predictor names\n",
    "predictor_names = data_predictors.columns"
   ]
  },
  {
   "cell_type": "code",
   "execution_count": 6,
   "metadata": {},
   "outputs": [
    {
     "data": {
      "text/plain": [
       "id                         0\n",
       "radius_mean                0\n",
       "texture_mean               0\n",
       "perimeter_mean             0\n",
       "area_mean                  0\n",
       "smoothness_mean            0\n",
       "compactness_mean           0\n",
       "concavity_mean             0\n",
       "concave points_mean        0\n",
       "symmetry_mean              0\n",
       "fractal_dimension_mean     0\n",
       "radius_se                  0\n",
       "texture_se                 0\n",
       "perimeter_se               0\n",
       "area_se                    0\n",
       "smoothness_se              0\n",
       "compactness_se             0\n",
       "concavity_se               0\n",
       "concave points_se          0\n",
       "symmetry_se                0\n",
       "fractal_dimension_se       0\n",
       "radius_worst               0\n",
       "texture_worst              0\n",
       "perimeter_worst            0\n",
       "area_worst                 0\n",
       "smoothness_worst           0\n",
       "compactness_worst          0\n",
       "concavity_worst            0\n",
       "concave points_worst       0\n",
       "symmetry_worst             0\n",
       "fractal_dimension_worst    0\n",
       "dtype: int64"
      ]
     },
     "execution_count": 6,
     "metadata": {},
     "output_type": "execute_result"
    }
   ],
   "source": [
    "'''checking columns with NAN values'''\n",
    "data_predictors.isnull().sum()"
   ]
  }
 ],
 "metadata": {
  "kernelspec": {
   "display_name": "Python 3",
   "language": "python",
   "name": "python3"
  },
  "language_info": {
   "codemirror_mode": {
    "name": "ipython",
    "version": 3
   },
   "file_extension": ".py",
   "mimetype": "text/x-python",
   "name": "python",
   "nbconvert_exporter": "python",
   "pygments_lexer": "ipython3",
   "version": "3.11.4"
  }
 },
 "nbformat": 4,
 "nbformat_minor": 5
}
